{
 "cells": [
  {
   "cell_type": "code",
   "execution_count": null,
   "id": "11505dc5",
   "metadata": {},
   "outputs": [],
   "source": [
    "Q1. What is the concept of a metaclass?\n",
    "Ans: Metaclass defines how a class behaves.Just as an ordinary class defines the behavior of \n",
    "    certain objects , a metaclass defines the behaviour of certain class and their instances."
   ]
  },
  {
   "cell_type": "code",
   "execution_count": 2,
   "id": "343a7d5f",
   "metadata": {},
   "outputs": [
    {
     "name": "stdout",
     "output_type": "stream",
     "text": [
      "<__main__.TestClass object at 0x000002455EA16340>\n"
     ]
    }
   ],
   "source": [
    "'''Q2. What is the best way to declare a class's metaclass?'''\n",
    " \n",
    "\n",
    "class TestClass():\n",
    "    pass\n",
    "my_test_class = TestClass()\n",
    "print(my_test_class)"
   ]
  },
  {
   "cell_type": "code",
   "execution_count": null,
   "id": "b9538923",
   "metadata": {},
   "outputs": [],
   "source": [
    "Q3. How do class decorators overlap with metaclasses for handling classes?\n",
    "Ans: Decorators can be used to manage both instances and classes, and they intersect with metaclasses in the second of\n",
    "    these roles. Decorator returns the original class, instances are made from it, not from wrapper object."
   ]
  },
  {
   "cell_type": "code",
   "execution_count": null,
   "id": "58b62cc2",
   "metadata": {},
   "outputs": [],
   "source": [
    "Q4. How do class decorators overlap with metaclasses for handling instances?\n",
    "Ans: Decorators can be used to manage both instances and classes, and they intersect with metaclasses in the second of\n",
    "    these roles. Decorator returns the original class, instances are made from it, not from wrapper object."
   ]
  }
 ],
 "metadata": {
  "kernelspec": {
   "display_name": "Python 3",
   "language": "python",
   "name": "python3"
  },
  "language_info": {
   "codemirror_mode": {
    "name": "ipython",
    "version": 3
   },
   "file_extension": ".py",
   "mimetype": "text/x-python",
   "name": "python",
   "nbconvert_exporter": "python",
   "pygments_lexer": "ipython3",
   "version": "3.8.8"
  }
 },
 "nbformat": 4,
 "nbformat_minor": 5
}
