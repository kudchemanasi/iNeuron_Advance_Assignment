{
 "cells": [
  {
   "cell_type": "code",
   "execution_count": null,
   "id": "d86d85a8",
   "metadata": {},
   "outputs": [],
   "source": [
    "Q1. What is the benefit of regular expressions?\n",
    "Ans:With regular expressions expressions can be created and used offtenly. We can use \n",
    "    these expressions instead of IF and ELSE operators. "
   ]
  },
  {
   "cell_type": "code",
   "execution_count": null,
   "id": "d1803615",
   "metadata": {},
   "outputs": [],
   "source": [
    "Q2. Describe the difference between the effects of \"(ab)c+\" and \"a(bc)+.\" Which of these, if any, is the unqualified pattern\n",
    "\"abc+\"?\n",
    "Ans:In this expression ab is multiplied by c+ and in other a is multiplied by bc+ operator."
   ]
  },
  {
   "cell_type": "code",
   "execution_count": null,
   "id": "87de90c6",
   "metadata": {},
   "outputs": [],
   "source": [
    "Q3. How much do you need to use the following sentence while using regular expressions?\n",
    "Ans: In case if we need to use regular expressions then its mandatory to import re."
   ]
  },
  {
   "cell_type": "code",
   "execution_count": null,
   "id": "5974391a",
   "metadata": {},
   "outputs": [],
   "source": [
    "Q4. Which characters have special significance in square brackets when expressing a range, and under what circumstances?\n",
    "Ans: Square Brackets :\n",
    "    Inside a character class, only the character class metacharacters(backslash,circumflex anchor and hyphen) have special \n",
    "    meaning.\n",
    "    \n",
    "    "
   ]
  },
  {
   "cell_type": "code",
   "execution_count": null,
   "id": "a763ad46",
   "metadata": {},
   "outputs": [],
   "source": [
    "Q5. How does compiling a regular-expression object benefit you?\n",
    "Ans: With regular expressions expressions can be created and used offtenly. We can use \n",
    "    these expressions instead of IF and ELSE operators. "
   ]
  },
  {
   "cell_type": "code",
   "execution_count": null,
   "id": "be30db44",
   "metadata": {},
   "outputs": [],
   "source": [
    "'''Q6. What are some examples of how to use the match object returned by re.match and re.search?'''\n",
    "\n",
    "import re\n",
    "Substring = 'string'\n",
    "\n",
    "String1 = ''' We are learning'''\n",
    "String2 = ''' It is too fast'''\n",
    "\n",
    "print (re.search(Substring, String1))\n",
    "print (re.match(Substring, String1))\n",
    "        \n"
   ]
  },
  {
   "cell_type": "code",
   "execution_count": null,
   "id": "82c3292f",
   "metadata": {},
   "outputs": [],
   "source": [
    "Q7. What is the difference between using a vertical bar (|) as an alteration and using square brackets as a character set?\n",
    "Ans:In a regular expression it is denoted with a vertical line character |. Square brackets allow only\n",
    "    characters or character class Alternation allows any expressions. "
   ]
  },
  {
   "cell_type": "code",
   "execution_count": null,
   "id": "beb029ee",
   "metadata": {},
   "outputs": [],
   "source": [
    "Q8. In regular-expression search patterns, why is it necessary to use the raw-string indicator (r)? In   replacement strings?\n",
    "Ans:Raw strings help you get the \"source code\" of a RegEx safely to the RegEx parser, which will then assign\n",
    "    meaning to character sequence like \\d , \\w , \\n etc."
   ]
  }
 ],
 "metadata": {
  "kernelspec": {
   "display_name": "Python 3",
   "language": "python",
   "name": "python3"
  },
  "language_info": {
   "codemirror_mode": {
    "name": "ipython",
    "version": 3
   },
   "file_extension": ".py",
   "mimetype": "text/x-python",
   "name": "python",
   "nbconvert_exporter": "python",
   "pygments_lexer": "ipython3",
   "version": "3.8.8"
  }
 },
 "nbformat": 4,
 "nbformat_minor": 5
}
